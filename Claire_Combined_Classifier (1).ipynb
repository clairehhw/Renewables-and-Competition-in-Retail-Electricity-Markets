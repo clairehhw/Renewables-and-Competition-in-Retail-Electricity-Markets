{
  "nbformat": 4,
  "nbformat_minor": 0,
  "metadata": {
    "kernelspec": {
      "display_name": "Python 3",
      "language": "python",
      "name": "python3"
    },
    "language_info": {
      "codemirror_mode": {
        "name": "ipython",
        "version": 3
      },
      "file_extension": ".py",
      "mimetype": "text/x-python",
      "name": "python",
      "nbconvert_exporter": "python",
      "pygments_lexer": "ipython3",
      "version": "3.6.2"
    },
    "colab": {
      "name": "Claire_Combined_Classifier.ipynb",
      "provenance": [],
      "collapsed_sections": []
    }
  },
  "cells": [
    {
      "cell_type": "code",
      "metadata": {
        "id": "6m0oD3WKAWoM",
        "colab_type": "code",
        "colab": {
          "base_uri": "https://localhost:8080/",
          "height": 51
        },
        "outputId": "de11ee89-50e9-428f-a389-00dd54ef2d8d"
      },
      "source": [
        "import pandas as pd\n",
        "import sklearn\n",
        "from io import StringIO\n",
        "import os\n",
        "import sys, getopt\n",
        "from sklearn.feature_extraction.text import TfidfVectorizer\n",
        "!pip install PyPDF3\n",
        "from PyPDF3 import PdfFileReader\n",
        "import re\n",
        "import string\n",
        "import numpy as np"
      ],
      "execution_count": null,
      "outputs": [
        {
          "output_type": "stream",
          "text": [
            "Requirement already satisfied: PyPDF3 in /usr/local/lib/python3.6/dist-packages (1.0.1)\n",
            "Requirement already satisfied: tqdm in /usr/local/lib/python3.6/dist-packages (from PyPDF3) (4.28.1)\n"
          ],
          "name": "stdout"
        }
      ]
    },
    {
      "cell_type": "code",
      "metadata": {
        "id": "HaRQkkElTjo2",
        "colab_type": "code",
        "colab": {
          "base_uri": "https://localhost:8080/",
          "height": 241
        },
        "outputId": "55cc8497-4f17-4b37-bf96-684ed75bdce1"
      },
      "source": [
        "# get google drive access\n",
        "!pip install --upgrade -q gspread\n",
        "!pip install gspread-dataframe\n",
        "import gspread\n",
        "from gspread_dataframe import get_as_dataframe, set_with_dataframe\n",
        "from google.colab import auth\n",
        "auth.authenticate_user()\n",
        "from oauth2client.client import GoogleCredentials\n",
        "gc = gspread.authorize(GoogleCredentials.get_application_default())"
      ],
      "execution_count": null,
      "outputs": [
        {
          "output_type": "stream",
          "text": [
            "Requirement already satisfied: gspread-dataframe in /usr/local/lib/python3.6/dist-packages (3.0.3)\n",
            "Requirement already satisfied: pandas>=0.14.0 in /usr/local/lib/python3.6/dist-packages (from gspread-dataframe) (0.25.3)\n",
            "Requirement already satisfied: gspread>=3.0.0 in /usr/local/lib/python3.6/dist-packages (from gspread-dataframe) (3.1.0)\n",
            "Requirement already satisfied: pytz>=2017.2 in /usr/local/lib/python3.6/dist-packages (from pandas>=0.14.0->gspread-dataframe) (2018.9)\n",
            "Requirement already satisfied: numpy>=1.13.3 in /usr/local/lib/python3.6/dist-packages (from pandas>=0.14.0->gspread-dataframe) (1.17.4)\n",
            "Requirement already satisfied: python-dateutil>=2.6.1 in /usr/local/lib/python3.6/dist-packages (from pandas>=0.14.0->gspread-dataframe) (2.6.1)\n",
            "Requirement already satisfied: requests>=2.2.1 in /usr/local/lib/python3.6/dist-packages (from gspread>=3.0.0->gspread-dataframe) (2.21.0)\n",
            "Requirement already satisfied: six>=1.5 in /usr/local/lib/python3.6/dist-packages (from python-dateutil>=2.6.1->pandas>=0.14.0->gspread-dataframe) (1.12.0)\n",
            "Requirement already satisfied: chardet<3.1.0,>=3.0.2 in /usr/local/lib/python3.6/dist-packages (from requests>=2.2.1->gspread>=3.0.0->gspread-dataframe) (3.0.4)\n",
            "Requirement already satisfied: idna<2.9,>=2.5 in /usr/local/lib/python3.6/dist-packages (from requests>=2.2.1->gspread>=3.0.0->gspread-dataframe) (2.8)\n",
            "Requirement already satisfied: urllib3<1.25,>=1.21.1 in /usr/local/lib/python3.6/dist-packages (from requests>=2.2.1->gspread>=3.0.0->gspread-dataframe) (1.24.3)\n",
            "Requirement already satisfied: certifi>=2017.4.17 in /usr/local/lib/python3.6/dist-packages (from requests>=2.2.1->gspread>=3.0.0->gspread-dataframe) (2019.9.11)\n"
          ],
          "name": "stdout"
        }
      ]
    },
    {
      "cell_type": "markdown",
      "metadata": {
        "id": "t30Wk2gWAWoW",
        "colab_type": "text"
      },
      "source": [
        "# Construct The Reports Dataframe "
      ]
    },
    {
      "cell_type": "markdown",
      "metadata": {
        "id": "FQMP6HkbAWoX",
        "colab_type": "text"
      },
      "source": [
        "## Load Dataframe"
      ]
    },
    {
      "cell_type": "code",
      "metadata": {
        "id": "N8S-Dg8GTtg4",
        "colab_type": "code",
        "colab": {}
      },
      "source": [
        "# Load the Dataset, call it reports\n",
        "sheet1 = gc.open_by_url(\"https://docs.google.com/spreadsheets/d/1OtCqsi6B0jJVOaMZfcgy7HHCHvq1PjBEiTjwCo5fPvk/edit#gid=0\")\n",
        "ws = sheet1.worksheet(\"Sheet1\")\n",
        "reports = get_as_dataframe(ws)\n",
        "reports = reports[['File_Name',\"State\", \"Page_Index\", \"Report Type\",\"Category\"]].dropna()\n"
      ],
      "execution_count": null,
      "outputs": []
    },
    {
      "cell_type": "code",
      "metadata": {
        "id": "7pxBUSgkLFph",
        "colab_type": "code",
        "colab": {}
      },
      "source": [
        "# Replace invalid values \n",
        "page = 3\n",
        "for i in range(161, 175):\n",
        "  reports.at[i, 'Page_Index'] = page\n",
        "  page += 1"
      ],
      "execution_count": null,
      "outputs": []
    },
    {
      "cell_type": "code",
      "metadata": {
        "id": "L6z6MUnnMm32",
        "colab_type": "code",
        "colab": {
          "base_uri": "https://localhost:8080/",
          "height": 714
        },
        "outputId": "6b9a44c4-7eab-4587-e4d6-edf096f66e91"
      },
      "source": [
        "# Check valid\n",
        "reports.Page_Index.values"
      ],
      "execution_count": null,
      "outputs": [
        {
          "output_type": "execute_result",
          "data": {
            "text/plain": [
              "array([67, 42, 44, 45, 46, 65, 68, 128, 49, 50, 51, 52, 53, 54, 29, 51,\n",
              "       59, 60, 61, 61, 64, 65, 66, 73, 34, 26, 1, 19, 20, 21, 23, 26, 28,\n",
              "       29, 30, 39, 37, 25, 26, 27, 28, 36, 34, 35, 23, 21, 17, 18, 19, 44,\n",
              "       31, 32, 33, 34, 28, 29, 27, 21, 22, 23, 32, 22, 23, 24, 25, 31, 29,\n",
              "       30, 20, 18, 15, 16, 17, 22, 19, 20, 21, 16, 17, 15, 13, 14, 35, 23,\n",
              "       24, 25, 26, 34, 32, 33, 21, 19, 15, 16, 17, 36, 24, 25, 26, 27, 35,\n",
              "       33, 34, 22, 20, 16, 17, 18, 37, 25, 26, 27, 28, 36, 34, 35, 23, 21,\n",
              "       17, 18, 19, 22, 19, 20, 21, 17, 15, 13, 14, 31, 22, 23, 24, 25, 30,\n",
              "       20, 18, 15, 16, 17, 36, 24, 25, 26, 27, 35, 33, 34, 22, 20, 16, 17,\n",
              "       18, 5, 8, 28, 29, 30, 2, 3, 4, 5, 6, 7, 8, 9, 10, 11, 12, 13, 14,\n",
              "       15, 16, 4, 5, 28, 29, 30, 31, 71, 72, 1, 2, 3, 4, 1, 2, 23, 16, 26,\n",
              "       27, 28, 16, 53, 15, 22, 25, 26, 27, 52, 55, 133, 140, 136, 143, 51,\n",
              "       52, 53, 12, 25, 34, 36, 37, 40, 48, 56, 13, 25, 31, 32, 36, 48, 13,\n",
              "       26, 38, 39, 40, 45, 53, 62, 13, 26, 35, 37, 38, 42, 50, 58, 12, 25,\n",
              "       34, 36, 37, 41, 49, 57, 12, 25, 34, 36, 37, 41, 49, 57, 1, 1, 1,\n",
              "       53, 119, 18, 21, 22, 23, 48, 11, 20, 1, 11, 2, 3, 4, 5, 7, 8, 9, 1,\n",
              "       54, 55, 13, 26, 35, 37, 38, 42, 50, 58, 51, 53, 54, 116, 117, 72,\n",
              "       74, 76, 61, 62, 63, 51, 52, 50, 51, 52, 53, 60, 61, 62, 65, 65, 5,\n",
              "       42, 43, 19, 20, 9, 38, 39, 19, 20, 21, 75, 76, 77, 78, 3, 6, 7, 51,\n",
              "       135, 136, 137, 138, 13, 14, 19, 20, 1, 2, 3, 4, 5, 6, 7, 8, 9, 10,\n",
              "       11, 12, 13, 14, 15, 16, 1, 2, 16, 23, 26, 27, 53, 28, 15, 22, 25,\n",
              "       26, 27, 28, 52, 13, 14, 26, 35, 37, 38, 39, 42, 13, 27, 36, 38, 39,\n",
              "       40, 43, 12, 25, 34, 36, 38, 41, 12, 25, 36, 38, 41, 34, 70, 53, 55,\n",
              "       56, 108, 109, 13, 14, 33, 35, 37, 58, 59, 60, 1, 57, 58, 59, 60,\n",
              "       61, 62, 63, 64, 18, 19, 20, 21, 22, 12, 27, 29, 30, 1, 2, 3, 1, 17,\n",
              "       17, 51, 52, 53, 54, 17, 30, 35, 1, 2, 18, 26, 27, 28, 29, 31, 32,\n",
              "       33, 7, 13, 26, 35, 37, 38, 42, 50, 58, 12, 27, 35, 37, 38, 42, 50,\n",
              "       58, 13, 26, 35, 37, 38, 42, 50, 58, 13, 26, 35, 37, 38, 42, 50, 58,\n",
              "       13, 26, 35, 37, 38, 42, 50, 58, 12, 26, 34, 35, 36, 41, 49, 57, 13,\n",
              "       26, 37, 38, 42, 50, 58, 13, 26, 35, 37, 38, 42, 50, 58, 12, 24, 30,\n",
              "       32, 33, 37, 43, 51, 12, 25, 34, 36, 37, 41, 49, 57, 32, 22, 23, 24,\n",
              "       25, 31, 29, 30, 20, 18, 11, 12, 13, 41, 30, 31, 32, 33, 42, 39, 40,\n",
              "       28, 27, 22, 23, 24, 36, 24, 25, 26, 27, 35, 33, 34, 22, 20, 16, 17,\n",
              "       18, 37, 25, 26, 27, 28, 36, 34, 35, 23, 21, 17, 18, 19, 37, 25, 26,\n",
              "       27, 28, 36, 34, 35, 23, 21, 17, 18, 19, 22, 19, 20, 21, 17, 15, 13,\n",
              "       14, 35, 23, 24, 25, 26, 34, 32, 33, 21, 19, 15, 16, 17, 24, 19, 20,\n",
              "       21, 21, 23, 24, 17, 15, 13, 14, 29, 25, 26, 27, 28, 23, 21, 17, 18,\n",
              "       19, 32, 21, 22, 23, 24, 31, 29, 30, 19, 17, 13, 14, 15, 33, 22, 23,\n",
              "       24, 25, 31, 32, 20, 18, 14, 15, 16, 37, 25, 26, 27, 28, 36, 34, 35,\n",
              "       23, 21, 17, 18, 19, 22, 19, 20, 21, 16, 17, 15, 13, 14, 43, 30, 31,\n",
              "       32, 33, 27, 28, 26, 20, 21, 22], dtype=object)"
            ]
          },
          "metadata": {
            "tags": []
          },
          "execution_count": 72
        }
      ]
    },
    {
      "cell_type": "code",
      "metadata": {
        "id": "fkeEkyR3jSxj",
        "colab_type": "code",
        "colab": {
          "base_uri": "https://localhost:8080/",
          "height": 204
        },
        "outputId": "1bbfb1d9-6b0c-4749-f98e-b80ead5d3790"
      },
      "source": [
        "# Data cleaning\n",
        "reports['File_Name'] = reports['File_Name'].astype(str)\n",
        "reports['Page_Index'] = reports['Page_Index'].astype(int)\n",
        "reports.head()"
      ],
      "execution_count": null,
      "outputs": [
        {
          "output_type": "execute_result",
          "data": {
            "text/html": [
              "<div>\n",
              "<style scoped>\n",
              "    .dataframe tbody tr th:only-of-type {\n",
              "        vertical-align: middle;\n",
              "    }\n",
              "\n",
              "    .dataframe tbody tr th {\n",
              "        vertical-align: top;\n",
              "    }\n",
              "\n",
              "    .dataframe thead th {\n",
              "        text-align: right;\n",
              "    }\n",
              "</style>\n",
              "<table border=\"1\" class=\"dataframe\">\n",
              "  <thead>\n",
              "    <tr style=\"text-align: right;\">\n",
              "      <th></th>\n",
              "      <th>File_Name</th>\n",
              "      <th>State</th>\n",
              "      <th>Page_Index</th>\n",
              "      <th>Report Type</th>\n",
              "      <th>Category</th>\n",
              "    </tr>\n",
              "  </thead>\n",
              "  <tbody>\n",
              "    <tr>\n",
              "      <th>0</th>\n",
              "      <td>8435_FY_2017.pdf</td>\n",
              "      <td>TX</td>\n",
              "      <td>67</td>\n",
              "      <td>Govt Financial Report</td>\n",
              "      <td>Operating Revenues and Expenses by Fund</td>\n",
              "    </tr>\n",
              "    <tr>\n",
              "      <th>1</th>\n",
              "      <td>8435_FY_2017.pdf</td>\n",
              "      <td>TX</td>\n",
              "      <td>42</td>\n",
              "      <td>Govt Financial Report</td>\n",
              "      <td>Depreciation Details</td>\n",
              "    </tr>\n",
              "    <tr>\n",
              "      <th>2</th>\n",
              "      <td>7129_FY_2008.pdf</td>\n",
              "      <td>TX</td>\n",
              "      <td>44</td>\n",
              "      <td>Govt Financial Report</td>\n",
              "      <td>Operating Revenues and Expenses by Fund</td>\n",
              "    </tr>\n",
              "    <tr>\n",
              "      <th>3</th>\n",
              "      <td>7129_FY_2008.pdf</td>\n",
              "      <td>TX</td>\n",
              "      <td>45</td>\n",
              "      <td>Govt Financial Report</td>\n",
              "      <td>Statement of Cash Flow by Fund</td>\n",
              "    </tr>\n",
              "    <tr>\n",
              "      <th>4</th>\n",
              "      <td>7129_FY_2008.pdf</td>\n",
              "      <td>TX</td>\n",
              "      <td>46</td>\n",
              "      <td>Govt Financial Report</td>\n",
              "      <td>Statement of Cash Flow by Fund</td>\n",
              "    </tr>\n",
              "  </tbody>\n",
              "</table>\n",
              "</div>"
            ],
            "text/plain": [
              "          File_Name  ...                                 Category\n",
              "0  8435_FY_2017.pdf  ...  Operating Revenues and Expenses by Fund\n",
              "1  8435_FY_2017.pdf  ...                     Depreciation Details\n",
              "2  7129_FY_2008.pdf  ...  Operating Revenues and Expenses by Fund\n",
              "3  7129_FY_2008.pdf  ...           Statement of Cash Flow by Fund\n",
              "4  7129_FY_2008.pdf  ...           Statement of Cash Flow by Fund\n",
              "\n",
              "[5 rows x 5 columns]"
            ]
          },
          "metadata": {
            "tags": []
          },
          "execution_count": 73
        }
      ]
    },
    {
      "cell_type": "markdown",
      "metadata": {
        "id": "zvxAbMqEAWoa",
        "colab_type": "text"
      },
      "source": [
        "## Fix Typos"
      ]
    },
    {
      "cell_type": "code",
      "metadata": {
        "id": "SzPQwIUrAWob",
        "colab_type": "code",
        "colab": {}
      },
      "source": [
        "#Fix \"3329_2017\" typo\n",
        "reports['File_Name'] = reports['File_Name'].str.replace('3329_2017 Detail Budget Report (with 2015 actuals)', '3329_2017 Detail Budget Report (with 2016 actuals)', regex = False)\n",
        "\n",
        "#Fix \"2135_2011\" typo\n",
        "reports['File_Name'] = reports['File_Name'].str.replace('2135_2011_and_2013', '2135_2011_and_2012', regex = False)\n",
        "reports['File_Name'] = reports['File_Name'].str.replace('2135_2011_and_2014', '2135_2011_and_2012', regex = False)\n",
        "\n",
        "#Fix \"3732_2006\" typo\n",
        "reports['File_Name'] = reports['File_Name'].str.replace('3732_2006-2009', '3732_2006-2008', regex = False)\n",
        "reports['File_Name'] = reports['File_Name'].str.replace('3732_2006-2010', '3732_2006-2008', regex = False)\n",
        "\n",
        "#Fix \"5335_March 2016\" typo\n",
        "reports['File_Name'] = reports['File_Name'].str.replace('5335_March 2016', '5335_March 2015', regex = False)\n",
        "\n",
        "#Add .pdf if necessary\n",
        "for i, x in reports.iterrows():\n",
        "    if x[\"File_Name\"].endswith(\".pdf\") != True:\n",
        "        reports[\"File_Name\"][i] = str(x[\"File_Name\"]) + \".pdf\""
      ],
      "execution_count": null,
      "outputs": []
    },
    {
      "cell_type": "markdown",
      "metadata": {
        "id": "XcTq4glKAWod",
        "colab_type": "text"
      },
      "source": [
        "## Access files"
      ]
    },
    {
      "cell_type": "code",
      "metadata": {
        "id": "i1NOmsxbAWod",
        "colab_type": "code",
        "colab": {
          "base_uri": "https://localhost:8080/",
          "height": 34
        },
        "outputId": "1d241299-ef15-457f-ac9e-b59b7de26471"
      },
      "source": [
        "# Load the Drive helper and mount\n",
        "from google.colab import drive\n",
        "\n",
        "# This will prompt for authorization\n",
        "drive.mount('/content/drive')"
      ],
      "execution_count": null,
      "outputs": [
        {
          "output_type": "stream",
          "text": [
            "Drive already mounted at /content/drive; to attempt to forcibly remount, call drive.mount(\"/content/drive\", force_remount=True).\n"
          ],
          "name": "stdout"
        }
      ]
    },
    {
      "cell_type": "markdown",
      "metadata": {
        "id": "t8qgNsed1Qk2",
        "colab_type": "text"
      },
      "source": [
        "## Add a \"Path\" Column"
      ]
    },
    {
      "cell_type": "code",
      "metadata": {
        "id": "FAPnB_oYkbIc",
        "colab_type": "code",
        "colab": {}
      },
      "source": [
        "reports['Path'] = [os.path.abspath('../%s/%s/%s/%s/%s/%s/%s/%s/%s' %('content', 'drive','My Drive', 'Work', 'Fall19', 'URAP', 'URAP_Data_Digitization','All_Muni_Docs_Searchable',row['State'])) for i, row in reports.iterrows()]"
      ],
      "execution_count": null,
      "outputs": []
    },
    {
      "cell_type": "code",
      "metadata": {
        "id": "OS-chmKYM8w9",
        "colab_type": "code",
        "colab": {
          "base_uri": "https://localhost:8080/",
          "height": 204
        },
        "outputId": "161635c7-0cd5-499b-eb12-8990bf270dcc"
      },
      "source": [
        "reports.head()"
      ],
      "execution_count": null,
      "outputs": [
        {
          "output_type": "execute_result",
          "data": {
            "text/html": [
              "<div>\n",
              "<style scoped>\n",
              "    .dataframe tbody tr th:only-of-type {\n",
              "        vertical-align: middle;\n",
              "    }\n",
              "\n",
              "    .dataframe tbody tr th {\n",
              "        vertical-align: top;\n",
              "    }\n",
              "\n",
              "    .dataframe thead th {\n",
              "        text-align: right;\n",
              "    }\n",
              "</style>\n",
              "<table border=\"1\" class=\"dataframe\">\n",
              "  <thead>\n",
              "    <tr style=\"text-align: right;\">\n",
              "      <th></th>\n",
              "      <th>File_Name</th>\n",
              "      <th>State</th>\n",
              "      <th>Page_Index</th>\n",
              "      <th>Report Type</th>\n",
              "      <th>Category</th>\n",
              "      <th>Path</th>\n",
              "    </tr>\n",
              "  </thead>\n",
              "  <tbody>\n",
              "    <tr>\n",
              "      <th>0</th>\n",
              "      <td>8435_FY_2017.pdf</td>\n",
              "      <td>TX</td>\n",
              "      <td>67</td>\n",
              "      <td>Govt Financial Report</td>\n",
              "      <td>Operating Revenues and Expenses by Fund</td>\n",
              "      <td>/content/drive/My Drive/Work/Fall19/URAP/URAP_...</td>\n",
              "    </tr>\n",
              "    <tr>\n",
              "      <th>1</th>\n",
              "      <td>8435_FY_2017.pdf</td>\n",
              "      <td>TX</td>\n",
              "      <td>42</td>\n",
              "      <td>Govt Financial Report</td>\n",
              "      <td>Depreciation Details</td>\n",
              "      <td>/content/drive/My Drive/Work/Fall19/URAP/URAP_...</td>\n",
              "    </tr>\n",
              "    <tr>\n",
              "      <th>2</th>\n",
              "      <td>7129_FY_2008.pdf</td>\n",
              "      <td>TX</td>\n",
              "      <td>44</td>\n",
              "      <td>Govt Financial Report</td>\n",
              "      <td>Operating Revenues and Expenses by Fund</td>\n",
              "      <td>/content/drive/My Drive/Work/Fall19/URAP/URAP_...</td>\n",
              "    </tr>\n",
              "    <tr>\n",
              "      <th>3</th>\n",
              "      <td>7129_FY_2008.pdf</td>\n",
              "      <td>TX</td>\n",
              "      <td>45</td>\n",
              "      <td>Govt Financial Report</td>\n",
              "      <td>Statement of Cash Flow by Fund</td>\n",
              "      <td>/content/drive/My Drive/Work/Fall19/URAP/URAP_...</td>\n",
              "    </tr>\n",
              "    <tr>\n",
              "      <th>4</th>\n",
              "      <td>7129_FY_2008.pdf</td>\n",
              "      <td>TX</td>\n",
              "      <td>46</td>\n",
              "      <td>Govt Financial Report</td>\n",
              "      <td>Statement of Cash Flow by Fund</td>\n",
              "      <td>/content/drive/My Drive/Work/Fall19/URAP/URAP_...</td>\n",
              "    </tr>\n",
              "  </tbody>\n",
              "</table>\n",
              "</div>"
            ],
            "text/plain": [
              "          File_Name  ...                                               Path\n",
              "0  8435_FY_2017.pdf  ...  /content/drive/My Drive/Work/Fall19/URAP/URAP_...\n",
              "1  8435_FY_2017.pdf  ...  /content/drive/My Drive/Work/Fall19/URAP/URAP_...\n",
              "2  7129_FY_2008.pdf  ...  /content/drive/My Drive/Work/Fall19/URAP/URAP_...\n",
              "3  7129_FY_2008.pdf  ...  /content/drive/My Drive/Work/Fall19/URAP/URAP_...\n",
              "4  7129_FY_2008.pdf  ...  /content/drive/My Drive/Work/Fall19/URAP/URAP_...\n",
              "\n",
              "[5 rows x 6 columns]"
            ]
          },
          "metadata": {
            "tags": []
          },
          "execution_count": 77
        }
      ]
    },
    {
      "cell_type": "code",
      "metadata": {
        "id": "VTgNG7c_uIF7",
        "colab_type": "code",
        "colab": {}
      },
      "source": [
        "#check if the ab_path really exists\n",
        "for ab_path in reports['Path']:\n",
        "    if os.path.exists(ab_path) != True:\n",
        "        print(ab_path)   "
      ],
      "execution_count": null,
      "outputs": []
    },
    {
      "cell_type": "code",
      "metadata": {
        "id": "PwECLrvaAWof",
        "colab_type": "code",
        "colab": {
          "base_uri": "https://localhost:8080/",
          "height": 419
        },
        "outputId": "2794b90a-1413-4336-aa8d-770d09574ade"
      },
      "source": [
        "display(reports)"
      ],
      "execution_count": null,
      "outputs": [
        {
          "output_type": "display_data",
          "data": {
            "text/html": [
              "<div>\n",
              "<style scoped>\n",
              "    .dataframe tbody tr th:only-of-type {\n",
              "        vertical-align: middle;\n",
              "    }\n",
              "\n",
              "    .dataframe tbody tr th {\n",
              "        vertical-align: top;\n",
              "    }\n",
              "\n",
              "    .dataframe thead th {\n",
              "        text-align: right;\n",
              "    }\n",
              "</style>\n",
              "<table border=\"1\" class=\"dataframe\">\n",
              "  <thead>\n",
              "    <tr style=\"text-align: right;\">\n",
              "      <th></th>\n",
              "      <th>File_Name</th>\n",
              "      <th>State</th>\n",
              "      <th>Page_Index</th>\n",
              "      <th>Report Type</th>\n",
              "      <th>Category</th>\n",
              "      <th>Path</th>\n",
              "    </tr>\n",
              "  </thead>\n",
              "  <tbody>\n",
              "    <tr>\n",
              "      <th>0</th>\n",
              "      <td>8435_FY_2017.pdf</td>\n",
              "      <td>TX</td>\n",
              "      <td>67</td>\n",
              "      <td>Govt Financial Report</td>\n",
              "      <td>Operating Revenues and Expenses by Fund</td>\n",
              "      <td>/content/drive/My Drive/Work/Fall19/URAP/URAP_...</td>\n",
              "    </tr>\n",
              "    <tr>\n",
              "      <th>1</th>\n",
              "      <td>8435_FY_2017.pdf</td>\n",
              "      <td>TX</td>\n",
              "      <td>42</td>\n",
              "      <td>Govt Financial Report</td>\n",
              "      <td>Depreciation Details</td>\n",
              "      <td>/content/drive/My Drive/Work/Fall19/URAP/URAP_...</td>\n",
              "    </tr>\n",
              "    <tr>\n",
              "      <th>2</th>\n",
              "      <td>7129_FY_2008.pdf</td>\n",
              "      <td>TX</td>\n",
              "      <td>44</td>\n",
              "      <td>Govt Financial Report</td>\n",
              "      <td>Operating Revenues and Expenses by Fund</td>\n",
              "      <td>/content/drive/My Drive/Work/Fall19/URAP/URAP_...</td>\n",
              "    </tr>\n",
              "    <tr>\n",
              "      <th>3</th>\n",
              "      <td>7129_FY_2008.pdf</td>\n",
              "      <td>TX</td>\n",
              "      <td>45</td>\n",
              "      <td>Govt Financial Report</td>\n",
              "      <td>Statement of Cash Flow by Fund</td>\n",
              "      <td>/content/drive/My Drive/Work/Fall19/URAP/URAP_...</td>\n",
              "    </tr>\n",
              "    <tr>\n",
              "      <th>4</th>\n",
              "      <td>7129_FY_2008.pdf</td>\n",
              "      <td>TX</td>\n",
              "      <td>46</td>\n",
              "      <td>Govt Financial Report</td>\n",
              "      <td>Statement of Cash Flow by Fund</td>\n",
              "      <td>/content/drive/My Drive/Work/Fall19/URAP/URAP_...</td>\n",
              "    </tr>\n",
              "    <tr>\n",
              "      <th>...</th>\n",
              "      <td>...</td>\n",
              "      <td>...</td>\n",
              "      <td>...</td>\n",
              "      <td>...</td>\n",
              "      <td>...</td>\n",
              "      <td>...</td>\n",
              "    </tr>\n",
              "    <tr>\n",
              "      <th>695</th>\n",
              "      <td>12473_2007.pdf</td>\n",
              "      <td>MA</td>\n",
              "      <td>28</td>\n",
              "      <td>Electric Only Report</td>\n",
              "      <td>Revenue by Class</td>\n",
              "      <td>/content/drive/My Drive/Work/Fall19/URAP/URAP_...</td>\n",
              "    </tr>\n",
              "    <tr>\n",
              "      <th>696</th>\n",
              "      <td>12473_2007.pdf</td>\n",
              "      <td>MA</td>\n",
              "      <td>26</td>\n",
              "      <td>Electric Only Report</td>\n",
              "      <td>In Lieu of Taxes</td>\n",
              "      <td>/content/drive/My Drive/Work/Fall19/URAP/URAP_...</td>\n",
              "    </tr>\n",
              "    <tr>\n",
              "      <th>697</th>\n",
              "      <td>12473_2007.pdf</td>\n",
              "      <td>MA</td>\n",
              "      <td>20</td>\n",
              "      <td>Electric Only Report</td>\n",
              "      <td>Cost of Utility Plant and Accumulated Deprecia...</td>\n",
              "      <td>/content/drive/My Drive/Work/Fall19/URAP/URAP_...</td>\n",
              "    </tr>\n",
              "    <tr>\n",
              "      <th>698</th>\n",
              "      <td>12473_2007.pdf</td>\n",
              "      <td>MA</td>\n",
              "      <td>21</td>\n",
              "      <td>Electric Only Report</td>\n",
              "      <td>Cost of Utility Plant and Accumulated Deprecia...</td>\n",
              "      <td>/content/drive/My Drive/Work/Fall19/URAP/URAP_...</td>\n",
              "    </tr>\n",
              "    <tr>\n",
              "      <th>699</th>\n",
              "      <td>12473_2007.pdf</td>\n",
              "      <td>MA</td>\n",
              "      <td>22</td>\n",
              "      <td>Electric Only Report</td>\n",
              "      <td>Cost of Utility Plant and Accumulated Deprecia...</td>\n",
              "      <td>/content/drive/My Drive/Work/Fall19/URAP/URAP_...</td>\n",
              "    </tr>\n",
              "  </tbody>\n",
              "</table>\n",
              "<p>693 rows × 6 columns</p>\n",
              "</div>"
            ],
            "text/plain": [
              "            File_Name  ...                                               Path\n",
              "0    8435_FY_2017.pdf  ...  /content/drive/My Drive/Work/Fall19/URAP/URAP_...\n",
              "1    8435_FY_2017.pdf  ...  /content/drive/My Drive/Work/Fall19/URAP/URAP_...\n",
              "2    7129_FY_2008.pdf  ...  /content/drive/My Drive/Work/Fall19/URAP/URAP_...\n",
              "3    7129_FY_2008.pdf  ...  /content/drive/My Drive/Work/Fall19/URAP/URAP_...\n",
              "4    7129_FY_2008.pdf  ...  /content/drive/My Drive/Work/Fall19/URAP/URAP_...\n",
              "..                ...  ...                                                ...\n",
              "695    12473_2007.pdf  ...  /content/drive/My Drive/Work/Fall19/URAP/URAP_...\n",
              "696    12473_2007.pdf  ...  /content/drive/My Drive/Work/Fall19/URAP/URAP_...\n",
              "697    12473_2007.pdf  ...  /content/drive/My Drive/Work/Fall19/URAP/URAP_...\n",
              "698    12473_2007.pdf  ...  /content/drive/My Drive/Work/Fall19/URAP/URAP_...\n",
              "699    12473_2007.pdf  ...  /content/drive/My Drive/Work/Fall19/URAP/URAP_...\n",
              "\n",
              "[693 rows x 6 columns]"
            ]
          },
          "metadata": {
            "tags": []
          }
        }
      ]
    },
    {
      "cell_type": "code",
      "metadata": {
        "id": "93BRWdHPx6Xy",
        "colab_type": "code",
        "colab": {}
      },
      "source": [
        "# Define a function that extracts texts from a pdf file based on the filename and page number provided. \n",
        "def extract(fname, page):\n",
        "    try:\n",
        "        pdfFileObj = open(fname,'rb')\n",
        "        pdfReader = PdfFileReader(pdfFileObj)\n",
        "        pageObj = pdfReader.getPage(page-1)\n",
        "        return pageObj.extractText()\n",
        "    except:\n",
        "        print(fname, page)"
      ],
      "execution_count": null,
      "outputs": []
    },
    {
      "cell_type": "markdown",
      "metadata": {
        "id": "p9yoE68GAWoh",
        "colab_type": "text"
      },
      "source": [
        "# First Filter(Model) Construction"
      ]
    },
    {
      "cell_type": "markdown",
      "metadata": {
        "id": "CIn23C0s6G6F",
        "colab_type": "text"
      },
      "source": [
        "## Add non-reports "
      ]
    },
    {
      "cell_type": "code",
      "metadata": {
        "id": "mVQULWzU6P0u",
        "colab_type": "code",
        "colab": {
          "base_uri": "https://localhost:8080/",
          "height": 419
        },
        "outputId": "f5aa6bb7-80d0-4afb-f8a9-5290d539c4df"
      },
      "source": [
        "# Create a list with filename being the indexes and list of report page number being the values\n",
        "page_list = reports.groupby('File_Name')['Page_Index'].apply(list)\n",
        "\n",
        "# Find all non-report pages from the files we sampled.\n",
        "row_list = []\n",
        "for i, row in reports.iterrows():\n",
        "    pdf = PdfFileReader(open(row['Path'] + '/' + row['File_Name'], 'rb'))\n",
        "    number_pages = pdf.getNumPages()\n",
        "    filename = row['File_Name']\n",
        "    state = row['State']\n",
        "    report_type = 'Non Report'\n",
        "    path = row['Path']\n",
        "    for j in range(1, number_pages+1):\n",
        "        if not(j in page_list[filename]):\n",
        "            dic = {'File_Name': filename, 'State':state,'Page_Index':j, 'report_type': report_type, 'Path': path}\n",
        "            row_list.append(dic)\n",
        "non_report = pd.DataFrame(row_list)\n",
        "display(non_report)"
      ],
      "execution_count": null,
      "outputs": [
        {
          "output_type": "display_data",
          "data": {
            "text/html": [
              "<div>\n",
              "<style scoped>\n",
              "    .dataframe tbody tr th:only-of-type {\n",
              "        vertical-align: middle;\n",
              "    }\n",
              "\n",
              "    .dataframe tbody tr th {\n",
              "        vertical-align: top;\n",
              "    }\n",
              "\n",
              "    .dataframe thead th {\n",
              "        text-align: right;\n",
              "    }\n",
              "</style>\n",
              "<table border=\"1\" class=\"dataframe\">\n",
              "  <thead>\n",
              "    <tr style=\"text-align: right;\">\n",
              "      <th></th>\n",
              "      <th>File_Name</th>\n",
              "      <th>State</th>\n",
              "      <th>Page_Index</th>\n",
              "      <th>report_type</th>\n",
              "      <th>Path</th>\n",
              "    </tr>\n",
              "  </thead>\n",
              "  <tbody>\n",
              "    <tr>\n",
              "      <th>0</th>\n",
              "      <td>8435_FY_2017.pdf</td>\n",
              "      <td>TX</td>\n",
              "      <td>1</td>\n",
              "      <td>Non Report</td>\n",
              "      <td>/content/drive/My Drive/Work/Fall19/URAP/URAP_...</td>\n",
              "    </tr>\n",
              "    <tr>\n",
              "      <th>1</th>\n",
              "      <td>8435_FY_2017.pdf</td>\n",
              "      <td>TX</td>\n",
              "      <td>2</td>\n",
              "      <td>Non Report</td>\n",
              "      <td>/content/drive/My Drive/Work/Fall19/URAP/URAP_...</td>\n",
              "    </tr>\n",
              "    <tr>\n",
              "      <th>2</th>\n",
              "      <td>8435_FY_2017.pdf</td>\n",
              "      <td>TX</td>\n",
              "      <td>3</td>\n",
              "      <td>Non Report</td>\n",
              "      <td>/content/drive/My Drive/Work/Fall19/URAP/URAP_...</td>\n",
              "    </tr>\n",
              "    <tr>\n",
              "      <th>3</th>\n",
              "      <td>8435_FY_2017.pdf</td>\n",
              "      <td>TX</td>\n",
              "      <td>4</td>\n",
              "      <td>Non Report</td>\n",
              "      <td>/content/drive/My Drive/Work/Fall19/URAP/URAP_...</td>\n",
              "    </tr>\n",
              "    <tr>\n",
              "      <th>4</th>\n",
              "      <td>8435_FY_2017.pdf</td>\n",
              "      <td>TX</td>\n",
              "      <td>5</td>\n",
              "      <td>Non Report</td>\n",
              "      <td>/content/drive/My Drive/Work/Fall19/URAP/URAP_...</td>\n",
              "    </tr>\n",
              "    <tr>\n",
              "      <th>...</th>\n",
              "      <td>...</td>\n",
              "      <td>...</td>\n",
              "      <td>...</td>\n",
              "      <td>...</td>\n",
              "      <td>...</td>\n",
              "    </tr>\n",
              "    <tr>\n",
              "      <th>35994</th>\n",
              "      <td>12473_2007.pdf</td>\n",
              "      <td>MA</td>\n",
              "      <td>62</td>\n",
              "      <td>Non Report</td>\n",
              "      <td>/content/drive/My Drive/Work/Fall19/URAP/URAP_...</td>\n",
              "    </tr>\n",
              "    <tr>\n",
              "      <th>35995</th>\n",
              "      <td>12473_2007.pdf</td>\n",
              "      <td>MA</td>\n",
              "      <td>63</td>\n",
              "      <td>Non Report</td>\n",
              "      <td>/content/drive/My Drive/Work/Fall19/URAP/URAP_...</td>\n",
              "    </tr>\n",
              "    <tr>\n",
              "      <th>35996</th>\n",
              "      <td>12473_2007.pdf</td>\n",
              "      <td>MA</td>\n",
              "      <td>64</td>\n",
              "      <td>Non Report</td>\n",
              "      <td>/content/drive/My Drive/Work/Fall19/URAP/URAP_...</td>\n",
              "    </tr>\n",
              "    <tr>\n",
              "      <th>35997</th>\n",
              "      <td>12473_2007.pdf</td>\n",
              "      <td>MA</td>\n",
              "      <td>65</td>\n",
              "      <td>Non Report</td>\n",
              "      <td>/content/drive/My Drive/Work/Fall19/URAP/URAP_...</td>\n",
              "    </tr>\n",
              "    <tr>\n",
              "      <th>35998</th>\n",
              "      <td>12473_2007.pdf</td>\n",
              "      <td>MA</td>\n",
              "      <td>66</td>\n",
              "      <td>Non Report</td>\n",
              "      <td>/content/drive/My Drive/Work/Fall19/URAP/URAP_...</td>\n",
              "    </tr>\n",
              "  </tbody>\n",
              "</table>\n",
              "<p>35999 rows × 5 columns</p>\n",
              "</div>"
            ],
            "text/plain": [
              "              File_Name  ...                                               Path\n",
              "0      8435_FY_2017.pdf  ...  /content/drive/My Drive/Work/Fall19/URAP/URAP_...\n",
              "1      8435_FY_2017.pdf  ...  /content/drive/My Drive/Work/Fall19/URAP/URAP_...\n",
              "2      8435_FY_2017.pdf  ...  /content/drive/My Drive/Work/Fall19/URAP/URAP_...\n",
              "3      8435_FY_2017.pdf  ...  /content/drive/My Drive/Work/Fall19/URAP/URAP_...\n",
              "4      8435_FY_2017.pdf  ...  /content/drive/My Drive/Work/Fall19/URAP/URAP_...\n",
              "...                 ...  ...                                                ...\n",
              "35994    12473_2007.pdf  ...  /content/drive/My Drive/Work/Fall19/URAP/URAP_...\n",
              "35995    12473_2007.pdf  ...  /content/drive/My Drive/Work/Fall19/URAP/URAP_...\n",
              "35996    12473_2007.pdf  ...  /content/drive/My Drive/Work/Fall19/URAP/URAP_...\n",
              "35997    12473_2007.pdf  ...  /content/drive/My Drive/Work/Fall19/URAP/URAP_...\n",
              "35998    12473_2007.pdf  ...  /content/drive/My Drive/Work/Fall19/URAP/URAP_...\n",
              "\n",
              "[35999 rows x 5 columns]"
            ]
          },
          "metadata": {
            "tags": []
          }
        }
      ]
    },
    {
      "cell_type": "markdown",
      "metadata": {
        "id": "gfnJhvMpAWoi",
        "colab_type": "text"
      },
      "source": [
        "## Find Different Report Types"
      ]
    },
    {
      "cell_type": "code",
      "metadata": {
        "id": "ZCQTzBa4AWoj",
        "colab_type": "code",
        "colab": {}
      },
      "source": [
        "# Copy the original training dataframe, call it f1_reports\n",
        "f1_reports = reports.copy()\n",
        "\n",
        "f1_reports = f1_reports.rename({'Report Type': 'report_type'}, axis = 'columns')\n",
        "\n",
        "#(Oliver)Here I'm trying to make the downsample scale and oversample scale roughly even.\n",
        "num_samples = int(non_report.shape[0]/np.sqrt(non_report.shape[0]/f1_reports.shape[0])) \n",
        "\n",
        "#Concatnate reports and sampled non-reports\n",
        "sample_pages = pd.concat([f1_reports, non_report.sample(num_samples, random_state=10)])"
      ],
      "execution_count": null,
      "outputs": []
    },
    {
      "cell_type": "code",
      "metadata": {
        "id": "KwXKYwVwDDoP",
        "colab_type": "code",
        "colab": {}
      },
      "source": [
        "# Extract content from sample pages\n",
        "sample_pages['Content'] = [extract(row['Path'] + '/' + row['File_Name'], row['Page_Index']) for i, row in sample_pages.iterrows()]"
      ],
      "execution_count": null,
      "outputs": []
    },
    {
      "cell_type": "code",
      "metadata": {
        "id": "PM8sfqyB8Gwh",
        "colab_type": "code",
        "colab": {}
      },
      "source": [
        "# Create a new column \"report_id\"\n",
        "sample_pages['report_id'] = sample_pages['report_type'].factorize()[0]\n",
        "sample_pages_id_df = sample_pages[['report_type', 'report_id']].drop_duplicates().sort_values('report_id')\n",
        "sample_pages_to_id = dict(sample_pages_id_df.values)\n",
        "id_to_sample_pages = dict(sample_pages_id_df[['report_id', 'report_type']].values)"
      ],
      "execution_count": null,
      "outputs": []
    },
    {
      "cell_type": "code",
      "metadata": {
        "id": "uHhUvE78AWom",
        "colab_type": "code",
        "colab": {
          "base_uri": "https://localhost:8080/",
          "height": 289
        },
        "outputId": "0ce7581b-062e-45f4-ed32-119c98e3de35"
      },
      "source": [
        "sample_pages.head()"
      ],
      "execution_count": null,
      "outputs": [
        {
          "output_type": "execute_result",
          "data": {
            "text/html": [
              "<div>\n",
              "<style scoped>\n",
              "    .dataframe tbody tr th:only-of-type {\n",
              "        vertical-align: middle;\n",
              "    }\n",
              "\n",
              "    .dataframe tbody tr th {\n",
              "        vertical-align: top;\n",
              "    }\n",
              "\n",
              "    .dataframe thead th {\n",
              "        text-align: right;\n",
              "    }\n",
              "</style>\n",
              "<table border=\"1\" class=\"dataframe\">\n",
              "  <thead>\n",
              "    <tr style=\"text-align: right;\">\n",
              "      <th></th>\n",
              "      <th>Category</th>\n",
              "      <th>File_Name</th>\n",
              "      <th>Page_Index</th>\n",
              "      <th>Path</th>\n",
              "      <th>State</th>\n",
              "      <th>report_type</th>\n",
              "      <th>Content</th>\n",
              "      <th>report_id</th>\n",
              "    </tr>\n",
              "  </thead>\n",
              "  <tbody>\n",
              "    <tr>\n",
              "      <th>0</th>\n",
              "      <td>Operating Revenues and Expenses by Fund</td>\n",
              "      <td>8435_FY_2017.pdf</td>\n",
              "      <td>67</td>\n",
              "      <td>/content/drive/My Drive/Work/Fall19/URAP/URAP_...</td>\n",
              "      <td>TX</td>\n",
              "      <td>Govt Financial Report</td>\n",
              "      <td>City of Hempstead, Texas \\nSchedule of Revenue...</td>\n",
              "      <td>0</td>\n",
              "    </tr>\n",
              "    <tr>\n",
              "      <th>1</th>\n",
              "      <td>Depreciation Details</td>\n",
              "      <td>8435_FY_2017.pdf</td>\n",
              "      <td>42</td>\n",
              "      <td>/content/drive/My Drive/Work/Fall19/URAP/URAP_...</td>\n",
              "      <td>TX</td>\n",
              "      <td>Govt Financial Report</td>\n",
              "      <td>City of Hempstead, Texas \\nNotes to the Financ...</td>\n",
              "      <td>0</td>\n",
              "    </tr>\n",
              "    <tr>\n",
              "      <th>2</th>\n",
              "      <td>Operating Revenues and Expenses by Fund</td>\n",
              "      <td>7129_FY_2008.pdf</td>\n",
              "      <td>44</td>\n",
              "      <td>/content/drive/My Drive/Work/Fall19/URAP/URAP_...</td>\n",
              "      <td>TX</td>\n",
              "      <td>Govt Financial Report</td>\n",
              "      <td>CITY OF GEORGETOWN, TEXAS \\nSTATEMENT OF REVEN...</td>\n",
              "      <td>0</td>\n",
              "    </tr>\n",
              "    <tr>\n",
              "      <th>3</th>\n",
              "      <td>Statement of Cash Flow by Fund</td>\n",
              "      <td>7129_FY_2008.pdf</td>\n",
              "      <td>45</td>\n",
              "      <td>/content/drive/My Drive/Work/Fall19/URAP/URAP_...</td>\n",
              "      <td>TX</td>\n",
              "      <td>Govt Financial Report</td>\n",
              "      <td>CITY OF GEORGETOWN, TEXAS \\nSTATEMENT OF CASH ...</td>\n",
              "      <td>0</td>\n",
              "    </tr>\n",
              "    <tr>\n",
              "      <th>4</th>\n",
              "      <td>Statement of Cash Flow by Fund</td>\n",
              "      <td>7129_FY_2008.pdf</td>\n",
              "      <td>46</td>\n",
              "      <td>/content/drive/My Drive/Work/Fall19/URAP/URAP_...</td>\n",
              "      <td>TX</td>\n",
              "      <td>Govt Financial Report</td>\n",
              "      <td>CITY OF GEORGETOWN, TEXAS \\nSTATEMENT OF CASH ...</td>\n",
              "      <td>0</td>\n",
              "    </tr>\n",
              "  </tbody>\n",
              "</table>\n",
              "</div>"
            ],
            "text/plain": [
              "                                  Category  ... report_id\n",
              "0  Operating Revenues and Expenses by Fund  ...         0\n",
              "1                     Depreciation Details  ...         0\n",
              "2  Operating Revenues and Expenses by Fund  ...         0\n",
              "3           Statement of Cash Flow by Fund  ...         0\n",
              "4           Statement of Cash Flow by Fund  ...         0\n",
              "\n",
              "[5 rows x 8 columns]"
            ]
          },
          "metadata": {
            "tags": []
          },
          "execution_count": 85
        }
      ]
    },
    {
      "cell_type": "markdown",
      "metadata": {
        "id": "BAEcdH52AWoo",
        "colab_type": "text"
      },
      "source": [
        "## Preprocessing (Clean Up Texts)"
      ]
    },
    {
      "cell_type": "code",
      "metadata": {
        "id": "-w1ubAlMAWoo",
        "colab_type": "code",
        "colab": {}
      },
      "source": [
        "sample_pages = sample_pages[['report_type', 'Content', 'report_id']]\n",
        "import re \n",
        "import string\n",
        "#Extract feature: number of rows\n",
        "sample_pages['num_rows'] = sample_pages['Content'].str.count('\\n')\n",
        "sample_pages['Content'].replace(r'\\s+|\\\\n', ' ', regex=True, inplace=True)\n",
        "sample_pages['Content'].replace(r'\\d+', '', regex=True, inplace=True)\n",
        "#Data cleaning: remove punctuations\n",
        "def remove_punctuations(text):\n",
        "  try:\n",
        "    for punctuation in string.punctuation:\n",
        "        text = text.replace(punctuation, '')\n",
        "    return text\n",
        "  except:\n",
        "    return None\n",
        "sample_pages['Content'] = sample_pages['Content'].apply(remove_punctuations)"
      ],
      "execution_count": null,
      "outputs": []
    },
    {
      "cell_type": "markdown",
      "metadata": {
        "id": "YW9mvZQ5AWot",
        "colab_type": "text"
      },
      "source": [
        "## TF-IDF"
      ]
    },
    {
      "cell_type": "code",
      "metadata": {
        "id": "zLGZjyg2AWou",
        "colab_type": "code",
        "colab": {
          "base_uri": "https://localhost:8080/",
          "height": 34
        },
        "outputId": "7d57b273-7f34-4fcb-c48e-e1ce6640ce30"
      },
      "source": [
        "# Convert texts to vectors\n",
        "tfidf = TfidfVectorizer(sublinear_tf=True, min_df=5, norm='l2', encoding='latin-1', ngram_range=(1, 2), stop_words='english')\n",
        "features = tfidf.fit_transform(sample_pages.Content).toarray()\n",
        "labels = sample_pages.report_type\n",
        "features.shape"
      ],
      "execution_count": null,
      "outputs": [
        {
          "output_type": "execute_result",
          "data": {
            "text/plain": [
              "(5687, 25709)"
            ]
          },
          "metadata": {
            "tags": []
          },
          "execution_count": 87
        }
      ]
    },
    {
      "cell_type": "code",
      "metadata": {
        "id": "N2ltMM2nnTRM",
        "colab_type": "code",
        "colab": {
          "base_uri": "https://localhost:8080/",
          "height": 221
        },
        "outputId": "5b535694-a77c-4cea-cf59-7849fb821215"
      },
      "source": [
        "labels"
      ],
      "execution_count": null,
      "outputs": [
        {
          "output_type": "execute_result",
          "data": {
            "text/plain": [
              "8       5\n",
              "9       5\n",
              "10      5\n",
              "11      5\n",
              "12      5\n",
              "       ..\n",
              "692     8\n",
              "695     7\n",
              "697    16\n",
              "698    16\n",
              "699    16\n",
              "Name: label, Length: 276, dtype: int64"
            ]
          },
          "metadata": {
            "tags": []
          },
          "execution_count": 109
        }
      ]
    },
    {
      "cell_type": "markdown",
      "metadata": {
        "id": "ljcHc5ueAWov",
        "colab_type": "text"
      },
      "source": [
        "## Oversample Minorities"
      ]
    },
    {
      "cell_type": "code",
      "metadata": {
        "id": "JB_FZgirAWow",
        "colab_type": "code",
        "colab": {
          "base_uri": "https://localhost:8080/",
          "height": 34
        },
        "outputId": "1d9d27ea-3d27-42a8-ffe0-449f724645eb"
      },
      "source": [
        "# Try SMOTE to oversample the reports.\n",
        "from imblearn.over_sampling import SMOTE\n",
        "sm = SMOTE(sampling_strategy='minority', random_state=7)\n",
        "sm_X, sm_Y = sm.fit_sample(features ,labels)\n",
        "sm_X.shape"
      ],
      "execution_count": null,
      "outputs": [
        {
          "output_type": "execute_result",
          "data": {
            "text/plain": [
              "(10631, 25709)"
            ]
          },
          "metadata": {
            "tags": []
          },
          "execution_count": 88
        }
      ]
    },
    {
      "cell_type": "markdown",
      "metadata": {
        "id": "sLE5JKLEAWoy",
        "colab_type": "text"
      },
      "source": [
        "## Model Selection By Cross-Validation"
      ]
    },
    {
      "cell_type": "code",
      "metadata": {
        "id": "4RHWXyfEAWoy",
        "colab_type": "code",
        "colab": {
          "base_uri": "https://localhost:8080/",
          "height": 280
        },
        "outputId": "fc26500f-4a40-440f-b69a-89b816f38d07"
      },
      "source": [
        "import warnings\n",
        "import matplotlib.pyplot as plt\n",
        "from sklearn.linear_model import LogisticRegression\n",
        "from sklearn.ensemble import RandomForestClassifier\n",
        "from sklearn.svm import LinearSVC\n",
        "from sklearn.model_selection import cross_val_score\n",
        "from sklearn.naive_bayes import MultinomialNB\n",
        "import seaborn as sns\n",
        "from sklearn.model_selection import train_test_split\n",
        "\n",
        "## Split the data into training and testing data\n",
        "sm_X_train_1, sm_X_test_1, sm_Y_train_1, sm_Y_test_1 = train_test_split(sm_X, sm_Y, test_size=0.2, random_state=47)\n",
        "\n",
        "## Perform cross-validation only on the training data\n",
        "warnings.simplefilter(\"ignore\")\n",
        "models = [\n",
        "    RandomForestClassifier(n_estimators=200, max_depth=3, random_state=0),\n",
        "    LinearSVC(),\n",
        "    MultinomialNB(),\n",
        "    LogisticRegression(random_state=0),\n",
        "]\n",
        "CV = 5\n",
        "cv_df = pd.DataFrame(index=range(CV * len(models)))\n",
        "entries = []\n",
        "for model in models:\n",
        "    model_name = model.__class__.__name__\n",
        "    accuracies = cross_val_score(model, sm_X_train_1, sm_Y_train_1, scoring='accuracy', cv=CV)\n",
        "    for fold_idx, accuracy in enumerate(accuracies):\n",
        "        entries.append((model_name, fold_idx, accuracy))\n",
        "    cv_df = pd.DataFrame(entries, columns=['model_name', 'fold_idx', 'accuracy'])\n",
        "    \n",
        "sns.boxplot(x='model_name', y='accuracy', data=cv_df)\n",
        "sns.stripplot(x='model_name', y='accuracy', data=cv_df, \n",
        "              size=8, jitter=True, edgecolor=\"gray\", linewidth=2)\n",
        "plt.show()"
      ],
      "execution_count": null,
      "outputs": [
        {
          "output_type": "display_data",
          "data": {
            "image/png": "[encoded data removed]",
            "text/plain": [
              "<Figure size 432x288 with 1 Axes>"
            ]
          },
          "metadata": {
            "tags": []
          }
        }
      ]
    },
    {
      "cell_type": "code",
      "metadata": {
        "id": "IxOrsHqRAWo0",
        "colab_type": "code",
        "colab": {
          "base_uri": "https://localhost:8080/",
          "height": 119
        },
        "outputId": "848c7e6c-6a72-43ef-feda-12b0cd09bdc9"
      },
      "source": [
        "cv_df.groupby('model_name').accuracy.mean()"
      ],
      "execution_count": null,
      "outputs": [
        {
          "output_type": "execute_result",
          "data": {
            "text/plain": [
              "model_name\n",
              "LinearSVC                 0.984007\n",
              "LogisticRegression        0.957900\n",
              "MultinomialNB             0.940967\n",
              "RandomForestClassifier    0.905927\n",
              "Name: accuracy, dtype: float64"
            ]
          },
          "metadata": {
            "tags": []
          },
          "execution_count": 90
        }
      ]
    },
    {
      "cell_type": "code",
      "metadata": {
        "id": "u_2aFxFQg-Nz",
        "colab_type": "code",
        "colab": {}
      },
      "source": [
        "# cf = pd.crosstab(sm_Y_test, filter_2.predict(sm_X_test), rownames=['True'], colnames=['Predicted'], margins=True)\n",
        "filter_1 = LinearSVC()\n",
        "array = sklearn.metrics.confusion_matrix(sm_Y_test_1, filter_1.predict(sm_X_test_1))\n",
        "cf_labels = pd.Series(pd.Series(sm_Y_test_1).sort_values().unique()).map(id_to_category)\n",
        "df_cm = pd.DataFrame(array, index = cf_labels,\n",
        "                  columns = cf_labels)\n",
        "plt.figure(figsize = (10,7))\n",
        "sns.heatmap(df_cm, annot=True)"
      ],
      "execution_count": null,
      "outputs": []
    },
    {
      "cell_type": "markdown",
      "metadata": {
        "id": "S9nMDV62AWo3",
        "colab_type": "text"
      },
      "source": [
        "## Build filter_1 and test its performance"
      ]
    },
    {
      "cell_type": "code",
      "metadata": {
        "id": "DsDLKWS2AWo4",
        "colab_type": "code",
        "colab": {
          "base_uri": "https://localhost:8080/",
          "height": 204
        },
        "outputId": "7a7a417f-1acd-47f7-90bd-96a8ec2b3b1e"
      },
      "source": [
        "filter_1 = LinearSVC()\n",
        "filter_1.fit(sm_X_train_1,sm_Y_train_1)\n",
        "print(sklearn.metrics.classification_report(sm_Y_test_1, filter_1.predict(sm_X_test_1)))"
      ],
      "execution_count": null,
      "outputs": [
        {
          "output_type": "stream",
          "text": [
            "                       precision    recall  f1-score   support\n",
            "\n",
            "               Budget       0.99      1.00      0.99       993\n",
            " Electric Only Report       0.95      0.95      0.95       115\n",
            "Govt Financial Report       0.93      0.76      0.84        17\n",
            "           Non Report       0.99      0.98      0.99      1002\n",
            "\n",
            "             accuracy                           0.99      2127\n",
            "            macro avg       0.96      0.92      0.94      2127\n",
            "         weighted avg       0.99      0.99      0.99      2127\n",
            "\n"
          ],
          "name": "stdout"
        }
      ]
    },
    {
      "cell_type": "code",
      "metadata": {
        "id": "PVBkAQnSmMB3",
        "colab_type": "code",
        "colab": {
          "base_uri": "https://localhost:8080/",
          "height": 51
        },
        "outputId": "3a222fe8-91c1-4dd3-8879-fb01deb07d50"
      },
      "source": [
        "sm_Y_test_1"
      ],
      "execution_count": null,
      "outputs": [
        {
          "output_type": "execute_result",
          "data": {
            "text/plain": [
              "array(['Budget', 'Non Report', 'Budget', ..., 'Non Report', 'Non Report',\n",
              "       'Budget'], dtype=object)"
            ]
          },
          "metadata": {
            "tags": []
          },
          "execution_count": 108
        }
      ]
    },
    {
      "cell_type": "code",
      "metadata": {
        "id": "dkP73Xrilotd",
        "colab_type": "code",
        "colab": {
          "base_uri": "https://localhost:8080/",
          "height": 1000
        },
        "outputId": "6cb1aa39-738f-4adc-b2e9-ed15fae8b490"
      },
      "source": [
        "array = sklearn.metrics.confusion_matrix(sm_Y_test_1, filter_1.predict(sm_X_test_1))\n",
        "cf_labels = pd.Series(pd.Series(sm_Y_test_1).sort_values().unique()).map(id_to_sample_pages)\n",
        "df_cm = pd.DataFrame(array, index = cf_labels,\n",
        "                  columns = cf_labels)\n",
        "plt.figure(figsize = (20,20))\n",
        "sns.heatmap(df_cm, annot=True)"
      ],
      "execution_count": null,
      "outputs": [
        {
          "output_type": "execute_result",
          "data": {
            "text/plain": [
              "<matplotlib.axes._subplots.AxesSubplot at 0x7f761daf6dd8>"
            ]
          },
          "metadata": {
            "tags": []
          },
          "execution_count": 102
        },
        {
          "output_type": "display_data",
          "data": {
            "image/png": "[encoded data removed]",
            "text/plain": [
              "<Figure size 1440x1440 with 2 Axes>"
            ]
          },
          "metadata": {
            "tags": []
          }
        }
      ]
    },
    {
      "cell_type": "markdown",
      "metadata": {
        "id": "ZimC6_BNAWo7",
        "colab_type": "text"
      },
      "source": [
        "# Build A Dataframe Of All Pages Of All Files"
      ]
    },
    {
      "cell_type": "code",
      "metadata": {
        "id": "RWbvY8PeAWo7",
        "colab_type": "code",
        "colab": {}
      },
      "source": [
        "import os\n",
        "root_path = \"/content/drive/My Drive/Work/Fall19/URAP/URAP_Data_Digitization/All_Muni_Docs_Searchable\"\n",
        "\n",
        "List = []\n",
        "for state in os.listdir(root_path):\n",
        "    if str(state) == 'Code' or str(state) == '.DS_Store':\n",
        "        continue\n",
        "    else:\n",
        "        state_dir = os.path.join(root_path, state)\n",
        "        for filename in os.listdir(state_dir):\n",
        "            file_path = os.path.join(state_dir, filename)\n",
        "            try:\n",
        "                pdf = PdfFileReader(open(file_path, 'rb'))\n",
        "            except:\n",
        "                print(filename)\n",
        "                continue\n",
        "            number_pages = pdf.getNumPages()\n",
        "            for i in range(1, number_pages+1):\n",
        "                dic = {'File_Name': filename, 'State':state,'Page_Index':i,'Path': file_path}\n",
        "                List.append(dic)\n",
        "all_pages = pd.DataFrame(List)"
      ],
      "execution_count": null,
      "outputs": []
    },
    {
      "cell_type": "code",
      "metadata": {
        "id": "XoQ_9Eh7AWo-",
        "colab_type": "code",
        "colab": {}
      },
      "source": [
        "all_pages.head()"
      ],
      "execution_count": null,
      "outputs": []
    },
    {
      "cell_type": "markdown",
      "metadata": {
        "id": "pIxoBNV1AWpA",
        "colab_type": "text"
      },
      "source": [
        "# Category Classifier"
      ]
    },
    {
      "cell_type": "markdown",
      "metadata": {
        "id": "FVYTLg2FAWpA",
        "colab_type": "text"
      },
      "source": [
        "## Create An Another Copy Of The Reports DataSet"
      ]
    },
    {
      "cell_type": "code",
      "metadata": {
        "id": "U4m8CMG5AWpD",
        "colab_type": "code",
        "colab": {}
      },
      "source": [
        "f2_reports = reports.copy()\n",
        "f2_reports['Category'] = f2_reports['Category'].astype(str)\n",
        "f2_reports['label'] = f2_reports['Category'].factorize()[0]\n",
        "category_counts = f2_reports['Category'].value_counts()\n",
        "f2_reports['Content'] = [extract(row['Path'] + '/' + row['File_Name'], row['Page_Index']) for i, row in f2_reports.iterrows()]"
      ],
      "execution_count": null,
      "outputs": []
    },
    {
      "cell_type": "code",
      "metadata": {
        "id": "Q-KaSOpKAWpE",
        "colab_type": "code",
        "colab": {}
      },
      "source": [
        "f2_reports = f2_reports[f2_reports['Content'].isnull() == False]"
      ],
      "execution_count": null,
      "outputs": []
    },
    {
      "cell_type": "code",
      "metadata": {
        "id": "Fx8cb0fkAWpG",
        "colab_type": "code",
        "colab": {}
      },
      "source": [
        "# Clean up contents\n",
        "\n",
        "f2_reports['Content'].replace(r'\\d+', '', regex=True, inplace=True)\n",
        "f2_reports['Content'] = f2_reports['Content'].apply(remove_punctuations)\n",
        "f2_reports['Content'].replace(r'\\s+|\\\\n', ' ', regex=True, inplace=True)\n",
        "f2_reports['Content'] = f2_reports['Content'].str.lower()"
      ],
      "execution_count": null,
      "outputs": []
    },
    {
      "cell_type": "code",
      "metadata": {
        "id": "kEjH3cPdAWpH",
        "colab_type": "code",
        "colab": {}
      },
      "source": [
        "# Set thresholds. If the frequency of a category is less then the threshold, it will be ignored. \n",
        "thresholds = np.array([1, 10, 20, 30, 40, 50])\n",
        "\n",
        "#Set tfidf vector\n",
        "tfidf = TfidfVectorizer(sublinear_tf=True, \n",
        "                        min_df=5, norm='l2', \n",
        "                        encoding='latin-1', \n",
        "                        ngram_range=(1, 2), \n",
        "                        stop_words='english')"
      ],
      "execution_count": null,
      "outputs": []
    },
    {
      "cell_type": "code",
      "metadata": {
        "id": "nze1P9_oAWpK",
        "colab_type": "code",
        "colab": {
          "base_uri": "https://localhost:8080/",
          "height": 1000
        },
        "outputId": "8095950c-1f3c-40b2-9d7e-21849411d800"
      },
      "source": [
        "# Iterate through each threshold and test the prediction accuracies.\n",
        "for threshold in thresholds:\n",
        "    \n",
        "    # Only include the categories whose frequencies are above the threshold. Save them into a dataframe df.\n",
        "    df = f2_reports[[(category_counts[category] >= threshold) for category in f2_reports['Category']]]\n",
        "    features = tfidf.fit_transform(df['Content']).toarray()\n",
        "    labels = df['label']\n",
        "    warnings.simplefilter(\"ignore\")\n",
        "    \n",
        "    # try to use SMOTE to oversample the reports if possible.\n",
        "    try:\n",
        "        sm = SMOTE(sampling_strategy='auto', random_state=7)\n",
        "        sm_X, sm_Y = sm.fit_sample(features ,labels)\n",
        "        print(\"SMOTE with threshold %s succeeded\" %threshold )\n",
        "    except:\n",
        "        sm_X = features\n",
        "        sm_Y = labels\n",
        "        print(\"SMOTE with threshold %s failed\" %threshold )\n",
        "    \n",
        "    ## Split the data into training and testing data\n",
        "    sm_X_train_2, sm_X_test_2, sm_Y_train_2, sm_Y_test_2 = train_test_split(sm_X, sm_Y, test_size=0.2, random_state=47)\n",
        "    # try RandomForest, LinearSVC, MultinomialNaiveBayes, and LogisticRegresssion.\n",
        "    models = [\n",
        "    RandomForestClassifier(n_estimators=200, max_depth=3, random_state=0),\n",
        "    LinearSVC(),\n",
        "    MultinomialNB(),\n",
        "    LogisticRegression(random_state=0),\n",
        "    ]\n",
        "    CV = 5\n",
        "    cv_df = pd.DataFrame(index=range(CV * len(models)))\n",
        "    entries = []\n",
        "    for model in models:\n",
        "        model_name = model.__class__.__name__\n",
        "        accuracies = cross_val_score(model, sm_X_train_2, sm_Y_train_2, scoring='accuracy', cv=CV)\n",
        "        for fold_idx, accuracy in enumerate(accuracies):\n",
        "            entries.append((model_name, fold_idx, accuracy))\n",
        "        cv_df = pd.DataFrame(entries, columns=['model_name', 'fold_idx', 'accuracy'])\n",
        "    \n",
        "    #Plot the results\n",
        "    sns.boxplot(x='model_name', y='accuracy', data=cv_df)\n",
        "    sns.stripplot(x='model_name', y='accuracy', data=cv_df, \n",
        "                  size=8, jitter=True, edgecolor=\"gray\", linewidth=2).set_title('Threshold: %s' %(str(threshold)))\n",
        "    plt.show()\n",
        "    display(cv_df.groupby('model_name').accuracy.mean())"
      ],
      "execution_count": null,
      "outputs": [
        {
          "output_type": "stream",
          "text": [
            "SMOTE with threshold 1 failed\n"
          ],
          "name": "stdout"
        },
        {
          "output_type": "display_data",
          "data": {
            "image/png": "[encoded data removed]",
            "text/plain": [
              "<Figure size 432x288 with 1 Axes>"
            ]
          },
          "metadata": {
            "tags": []
          }
        },
        {
          "output_type": "display_data",
          "data": {
            "text/plain": [
              "model_name\n",
              "LinearSVC                 0.938613\n",
              "LogisticRegression        0.905947\n",
              "MultinomialNB             0.872315\n",
              "RandomForestClassifier    0.587496\n",
              "Name: accuracy, dtype: float64"
            ]
          },
          "metadata": {
            "tags": []
          }
        },
        {
          "output_type": "stream",
          "text": [
            "SMOTE with threshold 10 succeeded\n"
          ],
          "name": "stdout"
        },
        {
          "output_type": "display_data",
          "data": {
            "image/png": "[encoded data removed]",
            "text/plain": [
              "<Figure size 432x288 with 1 Axes>"
            ]
          },
          "metadata": {
            "tags": []
          }
        },
        {
          "output_type": "display_data",
          "data": {
            "text/plain": [
              "model_name\n",
              "LinearSVC                 0.983755\n",
              "LogisticRegression        0.975286\n",
              "MultinomialNB             0.972085\n",
              "RandomForestClassifier    0.893077\n",
              "Name: accuracy, dtype: float64"
            ]
          },
          "metadata": {
            "tags": []
          }
        },
        {
          "output_type": "stream",
          "text": [
            "SMOTE with threshold 20 succeeded\n"
          ],
          "name": "stdout"
        },
        {
          "output_type": "display_data",
          "data": {
            "image/png": "[encoded data removed]",
            "text/plain": [
              "<Figure size 432x288 with 1 Axes>"
            ]
          },
          "metadata": {
            "tags": []
          }
        },
        {
          "output_type": "display_data",
          "data": {
            "text/plain": [
              "model_name\n",
              "LinearSVC                 0.988528\n",
              "LogisticRegression        0.983566\n",
              "MultinomialNB             0.981044\n",
              "RandomForestClassifier    0.949144\n",
              "Name: accuracy, dtype: float64"
            ]
          },
          "metadata": {
            "tags": []
          }
        },
        {
          "output_type": "stream",
          "text": [
            "SMOTE with threshold 30 succeeded\n"
          ],
          "name": "stdout"
        },
        {
          "output_type": "display_data",
          "data": {
            "image/png": "[encoded data removed]",
            "text/plain": [
              "<Figure size 432x288 with 1 Axes>"
            ]
          },
          "metadata": {
            "tags": []
          }
        },
        {
          "output_type": "display_data",
          "data": {
            "text/plain": [
              "model_name\n",
              "LinearSVC                 0.994783\n",
              "LogisticRegression        0.987669\n",
              "MultinomialNB             0.984082\n",
              "RandomForestClassifier    0.975292\n",
              "Name: accuracy, dtype: float64"
            ]
          },
          "metadata": {
            "tags": []
          }
        },
        {
          "output_type": "stream",
          "text": [
            "SMOTE with threshold 40 succeeded\n"
          ],
          "name": "stdout"
        },
        {
          "output_type": "display_data",
          "data": {
            "image/png": "[encoded data removed]",
            "text/plain": [
              "<Figure size 432x288 with 1 Axes>"
            ]
          },
          "metadata": {
            "tags": []
          }
        },
        {
          "output_type": "display_data",
          "data": {
            "text/plain": [
              "model_name\n",
              "LinearSVC                 0.994783\n",
              "LogisticRegression        0.987669\n",
              "MultinomialNB             0.984082\n",
              "RandomForestClassifier    0.975292\n",
              "Name: accuracy, dtype: float64"
            ]
          },
          "metadata": {
            "tags": []
          }
        },
        {
          "output_type": "stream",
          "text": [
            "SMOTE with threshold 50 succeeded\n"
          ],
          "name": "stdout"
        },
        {
          "output_type": "display_data",
          "data": {
            "image/png": "[encoded data removed]",
            "text/plain": [
              "<Figure size 432x288 with 1 Axes>"
            ]
          },
          "metadata": {
            "tags": []
          }
        },
        {
          "output_type": "display_data",
          "data": {
            "text/plain": [
              "model_name\n",
              "LinearSVC                 0.990813\n",
              "LogisticRegression        0.993890\n",
              "MultinomialNB             0.990765\n",
              "RandomForestClassifier    0.953548\n",
              "Name: accuracy, dtype: float64"
            ]
          },
          "metadata": {
            "tags": []
          }
        }
      ]
    },
    {
      "cell_type": "markdown",
      "metadata": {
        "id": "z4RJM0i1AWpM",
        "colab_type": "text"
      },
      "source": [
        "## So We Choose a LinearSVC Model With Threshold 30"
      ]
    },
    {
      "cell_type": "code",
      "metadata": {
        "id": "CkMSCVwrAWpM",
        "colab_type": "code",
        "colab": {
          "base_uri": "https://localhost:8080/",
          "height": 34
        },
        "outputId": "5ce630ed-902f-491d-a9b4-ce8d3061e88a"
      },
      "source": [
        "## Build the second filter\n",
        "filter_2 = LinearSVC()\n",
        "df = f2_reports[[(category_counts[category] >= threshold) for category in f2_reports['Category']]]\n",
        "features = tfidf.fit_transform(df.Content).toarray()\n",
        "labels = df['label']\n",
        "sm = SMOTE(sampling_strategy='auto', random_state=7)\n",
        "sm_X, sm_Y = sm.fit_sample(features ,labels)\n",
        "sm_X_train_2, sm_X_test_2, sm_Y_train_2, sm_Y_test_2 = train_test_split(sm_X, sm_Y, test_size=0.2, random_state=47)\n",
        "filter_2.fit(sm_X_train_2,sm_Y_train_2)\n",
        "display(sklearn.metrics.f1_score(sm_Y_test_2, filter_2.predict(sm_X_test_2), average='micro'))"
      ],
      "execution_count": null,
      "outputs": [
        {
          "output_type": "display_data",
          "data": {
            "text/plain": [
              "0.9876543209876543"
            ]
          },
          "metadata": {
            "tags": []
          }
        }
      ]
    },
    {
      "cell_type": "markdown",
      "metadata": {
        "id": "bzbzxcifAWpP",
        "colab_type": "text"
      },
      "source": [
        "# Use Filter_1 And Filter_2 "
      ]
    },
    {
      "cell_type": "code",
      "metadata": {
        "id": "8iO4UMkqLI1Q",
        "colab_type": "code",
        "colab": {}
      },
      "source": [
        "from itertools import product\n",
        "from sklearn.ensemble import VotingClassifier\n",
        "\n",
        "# Training classifiers\n",
        "clf_1 = LinearSVC()\n",
        "clf_2 = LinearSVC()\n",
        "eclf = VotingClassifier(estimators=[('f1_svc', clf_1), ('f2_svc', clf_2)],\n",
        "                        voting='hard', weights=[2, 2])\n",
        "\n",
        "clf1 = clf_1.fit(sm_X_train_1,sm_Y_train_1)\n",
        "clf2 = clf_2.fit(sm_X_train_2,sm_Y_train_2)\n",
        "eclf = eclf.fit(sm_X_train,sm_Y_train)\n",
        "\n",
        "for clf, label in zip([clf1, clf2, eclf], ['Linear SVC f1', 'Linear SVC f2', 'Ensemble']):\n",
        "  scores = cross_val_score(clf, sm_X_train, sm_Y_train, cv=5, scoring='accuracy')\n",
        "  print(\"Accuracy: %0.2f (+/- %0.2f) [%s]\" % (scores.mean(), scores.std(), label))\n"
      ],
      "execution_count": null,
      "outputs": []
    },
    {
      "cell_type": "code",
      "metadata": {
        "id": "wHht3hsLgUcK",
        "colab_type": "code",
        "colab": {}
      },
      "source": [
        "# cf = pd.crosstab(sm_Y_test, filter_2.predict(sm_X_test), rownames=['True'], colnames=['Predicted'], margins=True)\n",
        "array = sklearn.metrics.confusion_matrix(sm_Y_test, filter_2.predict(sm_X_test))\n",
        "cf_labels = pd.Series(pd.Series(sm_Y_test).sort_values().unique()).map(id_to_category)\n",
        "df_cm = pd.DataFrame(array, index = cf_labels,\n",
        "                  columns = cf_labels)\n",
        "plt.figure(figsize = (10,7))\n",
        "sns.heatmap(df_cm, annot=True)"
      ],
      "execution_count": null,
      "outputs": []
    },
    {
      "cell_type": "code",
      "metadata": {
        "id": "4X0DUdf0gqIo",
        "colab_type": "code",
        "colab": {}
      },
      "source": [
        ""
      ],
      "execution_count": null,
      "outputs": []
    }
  ]
}